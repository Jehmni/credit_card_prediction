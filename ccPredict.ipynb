{
 "cells": [
  {
   "cell_type": "markdown",
   "id": "bc8742d0-89c0-49a7-ab5e-6ddb1a5393a4",
   "metadata": {},
   "source": [
    "# Credit Card Approval Prediction\n",
    "\n",
    "## 1. Project Overview\n",
    "This project aims to build a machine-learning model to predict credit card approval using Logistic Regression and hyperparameter optimization.\n"
   ]
  },
  {
   "cell_type": "markdown",
   "id": "b0612a2c-481e-4a0e-9ce3-050f8542ca0d",
   "metadata": {},
   "source": [
    "## 2. Data Preprocessing\n",
    "We will load the data, handle missing values, encode categorical variables, and normalize numerical features.\n"
   ]
  },
  {
   "cell_type": "code",
   "execution_count": null,
   "id": "5d37993a-3bbd-4485-be75-85507b5b3211",
   "metadata": {},
   "outputs": [],
   "source": [
    "import pandas as pd\n",
    "from sklearn.model_selection import train_test_split\n",
    "from sklearn.preprocessing import StandardScaler, OneHotEncoder\n",
    "from sklearn.impute import SimpleImputer\n",
    "from sklearn.compose import ColumnTransformer\n",
    "from sklearn.pipeline import Pipeline\n",
    "\n",
    "# Load the dataset\n",
    "data = pd.read_csv('credit_card_approval.csv')\n",
    "\n",
    "# Separate features and target\n",
    "X = data.drop('approved', axis=1)\n",
    "y = data['approved']\n",
    "\n",
    "# Define categorical and numerical columns\n",
    "categorical_cols = X.select_dtypes(include=['object']).columns\n",
    "numerical_cols = X.select_dtypes(include=['int64', 'float64']).columns\n",
    "\n",
    "# Preprocessing pipeline for numerical data\n",
    "numerical_transformer = Pipeline(steps=[\n",
    "    ('imputer', SimpleImputer(strategy='median')),\n",
    "    ('scaler', StandardScaler())\n",
    "])\n",
    "\n",
    "# Preprocessing pipeline for categorical data\n",
    "categorical_transformer = Pipeline(steps=[\n",
    "    ('imputer', SimpleImputer(strategy='most_frequent')),\n",
    "    ('onehot', OneHotEncoder(handle_unknown='ignore'))\n",
    "])\n",
    "\n",
    "# Combine preprocessing steps\n",
    "preprocessor = ColumnTransformer(\n",
    "    transformers=[\n",
    "        ('num', numerical_transformer, numerical_cols),\n",
    "        ('cat', categorical_transformer, categorical_cols)\n",
    "    ])\n",
    "\n",
    "# Split the data into training and test sets\n",
    "X_train, X_test, y_train, y_test = train_test_split(X, y, test_size=0.2, random_state=42)\n"
   ]
  },
  {
   "cell_type": "markdown",
   "id": "04ed5c4b-58d2-4813-83cb-f66e7c32a2ce",
   "metadata": {},
   "source": [
    "## 3. Model Training\n",
    "We will define and train a Logistic Regression model."
   ]
  },
  {
   "cell_type": "code",
   "execution_count": null,
   "id": "aeb016da-5ffd-4500-a841-c20b761f5bf6",
   "metadata": {},
   "outputs": [],
   "source": [
    "from sklearn.linear_model import LogisticRegression\n",
    "\n",
    "# Define the model\n",
    "model = Pipeline(steps=[('preprocessor', preprocessor),\n",
    "                        ('classifier', LogisticRegression(solver='liblinear'))])\n",
    "\n",
    "# Train the model\n",
    "model.fit(X_train, y_train)\n"
   ]
  },
  {
   "cell_type": "markdown",
   "id": "a17cd688-3931-4f6b-8479-030a05f6e98d",
   "metadata": {},
   "source": [
    "## 4. Hyperparameter Tuning\n",
    "We will use Grid Search to find the best hyperparameters for the Logistic Regression model."
   ]
  },
  {
   "cell_type": "code",
   "execution_count": null,
   "id": "9faa766e-b423-4f28-a7ef-8beb9aca4be8",
   "metadata": {},
   "outputs": [],
   "source": [
    "from sklearn.model_selection import GridSearchCV\n",
    "\n",
    "# Define the parameter grid\n",
    "param_grid = {\n",
    "    'classifier__C': [0.1, 1.0, 10.0, 100.0],\n",
    "    'classifier__solver': ['liblinear', 'saga']\n",
    "}\n",
    "\n",
    "# Perform grid search\n",
    "grid_search = GridSearchCV(model, param_grid, cv=5, scoring='accuracy')\n",
    "grid_search.fit(X_train, y_train)\n",
    "\n",
    "# Get the best model\n",
    "best_model = grid_search.best_estimator_\n"
   ]
  },
  {
   "cell_type": "markdown",
   "id": "b46c2a0b-114e-43bd-a84b-2329f6facbfd",
   "metadata": {},
   "source": [
    "## 5. Model Evaluation\n",
    "We will evaluate the model's performance using various metrics."
   ]
  },
  {
   "cell_type": "code",
   "execution_count": null,
   "id": "260b42db-3d1d-4e67-a5ba-97b3470deacb",
   "metadata": {},
   "outputs": [],
   "source": [
    "from sklearn.metrics import accuracy_score, precision_score, recall_score, roc_auc_score\n",
    "\n",
    "# Predict on the test set\n",
    "y_pred = best_model.predict(X_test)\n",
    "\n",
    "# Evaluate the model\n",
    "accuracy = accuracy_score(y_test, y_pred)\n",
    "precision = precision_score(y_test, y_pred)\n",
    "recall = recall_score(y_test, y_pred)\n",
    "roc_auc = roc_auc_score(y_test, y_pred)\n",
    "\n",
    "print(f'Accuracy: {accuracy:.2f}')\n",
    "print(f'Precision: {precision:.2f}')\n",
    "print(f'Recall: {recall:.2f}')\n",
    "print(f'ROC AUC: {roc_auc:.2f}')\n"
   ]
  },
  {
   "cell_type": "code",
   "execution_count": null,
   "id": "395e90c9-587a-4613-b16b-40cb3565de11",
   "metadata": {},
   "outputs": [],
   "source": [
    "## 6. Conclusion\n",
    "This project demonstrates the use of Logistic Regression and hyperparameter tuning for predicting credit card approvals. The results show a balanced performance across various metrics."
   ]
  }
 ],
 "metadata": {
  "kernelspec": {
   "display_name": "Python 3 (ipykernel)",
   "language": "python",
   "name": "python3"
  },
  "language_info": {
   "codemirror_mode": {
    "name": "ipython",
    "version": 3
   },
   "file_extension": ".py",
   "mimetype": "text/x-python",
   "name": "python",
   "nbconvert_exporter": "python",
   "pygments_lexer": "ipython3",
   "version": "3.11.5"
  }
 },
 "nbformat": 4,
 "nbformat_minor": 5
}
